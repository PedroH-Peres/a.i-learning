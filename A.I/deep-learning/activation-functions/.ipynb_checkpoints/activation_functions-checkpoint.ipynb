{
 "cells": [
  {
   "cell_type": "markdown",
   "id": "77a330fe-1770-4851-a0a9-98d5f16976c2",
   "metadata": {},
   "source": [
    "# Activation Functions in Python\n",
    "Pedro H. Peres"
   ]
  },
  {
   "cell_type": "code",
   "execution_count": 6,
   "id": "0f713013-f803-46d3-816f-fcc6ae53cac9",
   "metadata": {},
   "outputs": [],
   "source": [
    "import numpy as np"
   ]
  },
  {
   "cell_type": "markdown",
   "id": "ad9bbf22-a260-430a-b4bc-bc2e33a71414",
   "metadata": {},
   "source": [
    "### Step"
   ]
  },
  {
   "cell_type": "code",
   "execution_count": 2,
   "id": "c134179c-bfed-44be-a534-147a1ef4baa8",
   "metadata": {},
   "outputs": [],
   "source": [
    "def step_function(sum):\n",
    "    if sum >= 1:\n",
    "        return 1\n",
    "    return 0"
   ]
  },
  {
   "cell_type": "code",
   "execution_count": 4,
   "id": "b2f7bdf5-96fc-4306-a4ea-e7c619f2099d",
   "metadata": {},
   "outputs": [
    {
     "data": {
      "text/plain": [
       "1"
      ]
     },
     "execution_count": 4,
     "metadata": {},
     "output_type": "execute_result"
    }
   ],
   "source": [
    "step_function(5)"
   ]
  },
  {
   "cell_type": "code",
   "execution_count": 5,
   "id": "77b65780-4964-4e91-9d6c-b1fe1f199934",
   "metadata": {},
   "outputs": [
    {
     "data": {
      "text/plain": [
       "0"
      ]
     },
     "execution_count": 5,
     "metadata": {},
     "output_type": "execute_result"
    }
   ],
   "source": [
    "step_function(-5)"
   ]
  },
  {
   "cell_type": "markdown",
   "id": "49686f06-3320-4193-9fae-efcd216c1334",
   "metadata": {},
   "source": [
    "### Sigmoid"
   ]
  },
  {
   "cell_type": "code",
   "execution_count": 6,
   "id": "4c37eaac-da9b-4132-9065-6866cc635db6",
   "metadata": {},
   "outputs": [],
   "source": [
    "def sigmoid_function(sum):\n",
    "    return 1 / (1 + np.exp(-sum))"
   ]
  },
  {
   "cell_type": "code",
   "execution_count": 8,
   "id": "cfa15a36-c258-4eb5-bb3d-4e3ea6d34b08",
   "metadata": {},
   "outputs": [
    {
     "data": {
      "text/plain": [
       "4.5397868702434395e-05"
      ]
     },
     "execution_count": 8,
     "metadata": {},
     "output_type": "execute_result"
    }
   ],
   "source": [
    "sigmoid_function(-10)"
   ]
  },
  {
   "cell_type": "code",
   "execution_count": 9,
   "id": "90da3f82-5e93-4258-a16e-834a6bf089da",
   "metadata": {},
   "outputs": [
    {
     "data": {
      "text/plain": [
       "0.7310585786300049"
      ]
     },
     "execution_count": 9,
     "metadata": {},
     "output_type": "execute_result"
    }
   ],
   "source": [
    "sigmoid_function(1)"
   ]
  },
  {
   "cell_type": "code",
   "execution_count": 10,
   "id": "6b6969b1-ae8a-4af0-b6b1-686a0c40fc58",
   "metadata": {},
   "outputs": [
    {
     "data": {
      "text/plain": [
       "0.5"
      ]
     },
     "execution_count": 10,
     "metadata": {},
     "output_type": "execute_result"
    }
   ],
   "source": [
    "sigmoid_function(0)"
   ]
  },
  {
   "cell_type": "markdown",
   "id": "37f83478-1451-43af-87be-051e56fe60bf",
   "metadata": {},
   "source": [
    "### Hiperbolic"
   ]
  },
  {
   "cell_type": "code",
   "execution_count": 11,
   "id": "5ef14e62-2d22-4023-bff6-2e943705777e",
   "metadata": {},
   "outputs": [],
   "source": [
    "def hiperbolic_function(sum):\n",
    "    return (np.exp(sum) - np.exp(-sum))/(np.exp(sum) + np.exp(-sum))"
   ]
  },
  {
   "cell_type": "code",
   "execution_count": 12,
   "id": "9b15fda1-dffd-4607-b8c3-11356c8e62a6",
   "metadata": {},
   "outputs": [
    {
     "data": {
      "text/plain": [
       "-0.9999999958776926"
      ]
     },
     "execution_count": 12,
     "metadata": {},
     "output_type": "execute_result"
    }
   ],
   "source": [
    "hiperbolic_function(-10)"
   ]
  },
  {
   "cell_type": "code",
   "execution_count": 13,
   "id": "7ce3846f-3171-4759-bf7e-29dfe23d3e3f",
   "metadata": {},
   "outputs": [
    {
     "data": {
      "text/plain": [
       "0.9999999958776926"
      ]
     },
     "execution_count": 13,
     "metadata": {},
     "output_type": "execute_result"
    }
   ],
   "source": [
    "hiperbolic_function(10)"
   ]
  },
  {
   "cell_type": "code",
   "execution_count": 16,
   "id": "4cd05530-35d7-498b-90d9-4da92881ad81",
   "metadata": {},
   "outputs": [
    {
     "data": {
      "text/plain": [
       "0.7615941559557649"
      ]
     },
     "execution_count": 16,
     "metadata": {},
     "output_type": "execute_result"
    }
   ],
   "source": [
    "hiperbolic_function(1)"
   ]
  },
  {
   "cell_type": "markdown",
   "id": "9610c3d5-5975-489e-b5bd-4889784743f5",
   "metadata": {},
   "source": [
    "### ReLU"
   ]
  },
  {
   "cell_type": "code",
   "execution_count": 1,
   "id": "248aff58-e701-4ed0-8a02-7fbeeb4da9b5",
   "metadata": {},
   "outputs": [],
   "source": [
    "def relu_function(x):\n",
    "    if x >= 0:\n",
    "        return x\n",
    "    return 0"
   ]
  },
  {
   "cell_type": "code",
   "execution_count": 2,
   "id": "b66567e8-99a1-4290-a43c-d5581e625196",
   "metadata": {},
   "outputs": [
    {
     "data": {
      "text/plain": [
       "2"
      ]
     },
     "execution_count": 2,
     "metadata": {},
     "output_type": "execute_result"
    }
   ],
   "source": [
    "relu_function(2)"
   ]
  },
  {
   "cell_type": "code",
   "execution_count": 3,
   "id": "10192a23-46d1-4962-b352-df67017e5ecf",
   "metadata": {},
   "outputs": [
    {
     "data": {
      "text/plain": [
       "0"
      ]
     },
     "execution_count": 3,
     "metadata": {},
     "output_type": "execute_result"
    }
   ],
   "source": [
    "relu_function(-1)"
   ]
  },
  {
   "cell_type": "markdown",
   "id": "b5e6031c-c072-49b1-a5ef-c29d1545d5fb",
   "metadata": {},
   "source": [
    "### Softmax"
   ]
  },
  {
   "cell_type": "code",
   "execution_count": 7,
   "id": "f30f67e9-9648-4925-81b0-0ecf278f1d5b",
   "metadata": {},
   "outputs": [],
   "source": [
    "def softmax_function(x):\n",
    "    return np.exp(x) / np.exp(x).sum()"
   ]
  },
  {
   "cell_type": "code",
   "execution_count": 12,
   "id": "01fe148f-89e9-4cfe-8146-dc519a30d1c3",
   "metadata": {},
   "outputs": [
    {
     "data": {
      "text/plain": [
       "array([0.30129182, 0.49674623, 0.20196195])"
      ]
     },
     "execution_count": 12,
     "metadata": {},
     "output_type": "execute_result"
    }
   ],
   "source": [
    "softmax_function([1.0, 1.5, 0.6])"
   ]
  },
  {
   "cell_type": "markdown",
   "id": "609b12e3-62b4-4b7d-aa8e-3b6fbe0f6673",
   "metadata": {},
   "source": [
    "### Linear"
   ]
  },
  {
   "cell_type": "code",
   "execution_count": 10,
   "id": "5a98f991-016e-4737-b9d9-4805eed55328",
   "metadata": {},
   "outputs": [],
   "source": [
    "def linear_function(x):\n",
    "    return x"
   ]
  },
  {
   "cell_type": "code",
   "execution_count": 11,
   "id": "060b1df6-71f1-4f18-859b-0860c97468cc",
   "metadata": {},
   "outputs": [
    {
     "data": {
      "text/plain": [
       "7"
      ]
     },
     "execution_count": 11,
     "metadata": {},
     "output_type": "execute_result"
    }
   ],
   "source": [
    "linear_function(7)"
   ]
  }
 ],
 "metadata": {
  "kernelspec": {
   "display_name": "Python 3 (ipykernel)",
   "language": "python",
   "name": "python3"
  },
  "language_info": {
   "codemirror_mode": {
    "name": "ipython",
    "version": 3
   },
   "file_extension": ".py",
   "mimetype": "text/x-python",
   "name": "python",
   "nbconvert_exporter": "python",
   "pygments_lexer": "ipython3",
   "version": "3.11.9"
  }
 },
 "nbformat": 4,
 "nbformat_minor": 5
}
